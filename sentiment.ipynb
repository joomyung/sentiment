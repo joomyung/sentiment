{
 "cells": [
  {
   "attachments": {},
   "cell_type": "markdown",
   "metadata": {},
   "source": [
    "# Sentiment Analysis with Twitter API\n",
    "- Name: Matt Song\n",
    "- e-mail: songjoomyung@gmail.com"
   ]
  },
  {
   "cell_type": "code",
   "execution_count": 1,
   "metadata": {},
   "outputs": [],
   "source": [
    "# import libraries\n",
    "import pandas as pd\n",
    "import numpy as np\n",
    "import os\n",
    "import json\n",
    "import glob\n",
    "from datetime import datetime"
   ]
  },
  {
   "cell_type": "markdown",
   "metadata": {},
   "source": [
    "## Check vaderSentiment"
   ]
  },
  {
   "cell_type": "code",
   "execution_count": 2,
   "metadata": {},
   "outputs": [],
   "source": [
    "# import object\n",
    "from vaderSentiment.vaderSentiment import SentimentIntensityAnalyzer\n",
    "\n",
    "# create analyzer object\n",
    "analyzer = SentimentIntensityAnalyzer()\n",
    "\n",
    "# create function to output sentiment ratings\n",
    "def print_sentiment_ratings(sentence):\n",
    "    sent = analyzer.polarity_scores(sentence)\n",
    "    print(\"{} {}\".format(sentence, sent))"
   ]
  },
  {
   "cell_type": "code",
   "execution_count": 3,
   "metadata": {},
   "outputs": [
    {
     "name": "stdout",
     "output_type": "stream",
     "text": [
      "I have to work on the weekend {'neg': 0.0, 'neu': 1.0, 'pos': 0.0, 'compound': 0.0}\n"
     ]
    }
   ],
   "source": [
    "print_sentiment_ratings(\"I have to work on the weekend\")"
   ]
  },
  {
   "cell_type": "markdown",
   "metadata": {},
   "source": [
    "## Tweepy "
   ]
  },
  {
   "cell_type": "markdown",
   "metadata": {},
   "source": [
    "### Create Connection to Twitter"
   ]
  },
  {
   "cell_type": "code",
   "execution_count": 4,
   "metadata": {},
   "outputs": [],
   "source": [
    "# import api keys\n",
    "from config import consumer_key, consumer_secret, access_token, access_token_secret\n",
    "\n",
    "# import tweepy\n",
    "import tweepy"
   ]
  },
  {
   "cell_type": "code",
   "execution_count": 5,
   "metadata": {},
   "outputs": [],
   "source": [
    "# authenticate with Twitter\n",
    "authen = tweepy.OAuthHandler(consumer_key, consumer_secret)\n",
    "authen.set_access_token(access_token, access_token_secret)\n",
    "\n",
    "# connect to Twitter\n",
    "tweetapi = tweepy.API(authen)"
   ]
  },
  {
   "cell_type": "markdown",
   "metadata": {},
   "source": [
    "### Pull Data from Twitter"
   ]
  },
  {
   "cell_type": "code",
   "execution_count": 6,
   "metadata": {},
   "outputs": [
    {
     "name": "stdout",
     "output_type": "stream",
     "text": [
      "Retrieved 15 tweets for the last 7 days\n"
     ]
    }
   ],
   "source": [
    "# get tweets for 7 days\n",
    "tweets_7_days = tweetapi.search_tweets('tesla')\n",
    "print(f'Retrieved {len(tweets_7_days)} tweets for the last 7 days')"
   ]
  },
  {
   "cell_type": "code",
   "execution_count": 7,
   "metadata": {},
   "outputs": [
    {
     "name": "stdout",
     "output_type": "stream",
     "text": [
      "Retrieved 100 tweets for the last 30 days\n"
     ]
    }
   ],
   "source": [
    "# get tweets for 30 days (limited to use 250 time monthly)\n",
    "tweets_30_days = tweetapi.search_30_day(label='test', query='tesla')\n",
    "\n",
    "print(f'Retrieved {len(tweets_30_days)} tweets for the last 30 days')"
   ]
  },
  {
   "cell_type": "code",
   "execution_count": 9,
   "metadata": {},
   "outputs": [
    {
     "name": "stdout",
     "output_type": "stream",
     "text": [
      "Retrieved 100 tweets from 202201010000 to 202204302359\n"
     ]
    }
   ],
   "source": [
    "# Start and end times must be in UTC\n",
    "from tracemalloc import start\n",
    "\n",
    "start_time = '202201010000'\n",
    "end_time = '202204302359'\n",
    "\n",
    "# get tweets in full archive (limited to use 50 times monthly)\n",
    "tweets_full_archive = tweetapi.search_full_archive(label='test', \n",
    "    query='tesla', \n",
    "    fromDate=start_time, toDate=end_time, \n",
    "    maxResults=100\n",
    ")\n",
    "print(f'Retrieved {len(tweets_full_archive)} tweets from {start_time} to {end_time}')"
   ]
  },
  {
   "cell_type": "markdown",
   "metadata": {},
   "source": [
    "### Create DataFrame with Sentiment Scores of Tweets"
   ]
  },
  {
   "cell_type": "code",
   "execution_count": 10,
   "metadata": {},
   "outputs": [
    {
     "name": "stderr",
     "output_type": "stream",
     "text": [
      "C:\\Users\\matt_song\\AppData\\Roaming\\Python\\Python37\\site-packages\\ipykernel_launcher.py:37: DeprecationWarning: `np.float` is a deprecated alias for the builtin `float`. To silence this warning, use `float` by itself. Doing this will not modify any behavior and is safe. If you specifically wanted the numpy scalar type, use `np.float64` here.\n",
      "Deprecated in NumPy 1.20; for more details and guidance: https://numpy.org/devdocs/release/1.20.0-notes.html#deprecations\n",
      "C:\\Users\\matt_song\\AppData\\Roaming\\Python\\Python37\\site-packages\\ipykernel_launcher.py:38: DeprecationWarning: `np.float` is a deprecated alias for the builtin `float`. To silence this warning, use `float` by itself. Doing this will not modify any behavior and is safe. If you specifically wanted the numpy scalar type, use `np.float64` here.\n",
      "Deprecated in NumPy 1.20; for more details and guidance: https://numpy.org/devdocs/release/1.20.0-notes.html#deprecations\n"
     ]
    }
   ],
   "source": [
    "# Iterate through the tweets that have been retrieved\n",
    "# Append VADER sentiment scores\n",
    "\n",
    "tweet_id = []\n",
    "tweet_lang = []\n",
    "tweet_created_at = []\n",
    "tweet_retweet_count = []\n",
    "tweet_text = []\n",
    "\n",
    "tweet_sentiment_score = []\n",
    "sentiment_df = pd.DataFrame(columns=\\\n",
    "  ['id', 'lang', 'created_at', 'retweet_count',\n",
    "   'text' ,'sentiment_score'])\n",
    "\n",
    "for tweet in tweets_30_days:\n",
    "    analyzer = SentimentIntensityAnalyzer()\n",
    "\n",
    "    tweet_id.append(str(tweet.id))\n",
    "    tweet_lang.append(str(tweet.lang))\n",
    "    tweet_created_at.append(str(tweet.created_at))\n",
    "    tweet_retweet_count.append(str(tweet.retweet_count))    \n",
    "    tweet_text.append(str(tweet.text))\n",
    "\n",
    "    tweet_sentiment_score.append(str(analyzer.polarity_scores(tweet.text)[\"compound\"]))\n",
    "\n",
    "sentiment_df['id'] = tweet_id\n",
    "sentiment_df['lang'] = tweet_lang\n",
    "sentiment_df['created_at'] = tweet_created_at\n",
    "sentiment_df['retweet_count'] = tweet_retweet_count\n",
    "sentiment_df['text'] = tweet_text\n",
    "\n",
    "sentiment_df['sentiment_score'] = tweet_sentiment_score\n",
    "\n",
    "sentiment_df['text'] = sentiment_df['text'].str.replace('\\n', ' ')\n",
    "\n",
    "# Create a positive / negative sentiment variable\n",
    "sentiment_df['sentiment'] = np.where(sentiment_df['sentiment_score'].astype(np.float) > 0, 'Positive', 'Negative')\n",
    "sentiment_df['sentiment'] = np.where(sentiment_df['sentiment_score'].astype(np.float) == 0, 'Neutral', sentiment_df['sentiment'])"
   ]
  },
  {
   "cell_type": "code",
   "execution_count": 11,
   "metadata": {},
   "outputs": [
    {
     "data": {
      "text/html": [
       "<div>\n",
       "<style scoped>\n",
       "    .dataframe tbody tr th:only-of-type {\n",
       "        vertical-align: middle;\n",
       "    }\n",
       "\n",
       "    .dataframe tbody tr th {\n",
       "        vertical-align: top;\n",
       "    }\n",
       "\n",
       "    .dataframe thead th {\n",
       "        text-align: right;\n",
       "    }\n",
       "</style>\n",
       "<table border=\"1\" class=\"dataframe\">\n",
       "  <thead>\n",
       "    <tr style=\"text-align: right;\">\n",
       "      <th></th>\n",
       "      <th>id</th>\n",
       "      <th>lang</th>\n",
       "      <th>created_at</th>\n",
       "      <th>retweet_count</th>\n",
       "      <th>text</th>\n",
       "      <th>sentiment_score</th>\n",
       "      <th>sentiment</th>\n",
       "    </tr>\n",
       "  </thead>\n",
       "  <tbody>\n",
       "    <tr>\n",
       "      <th>0</th>\n",
       "      <td>1618388551435157506</td>\n",
       "      <td>en</td>\n",
       "      <td>2023-01-25 23:21:13+00:00</td>\n",
       "      <td>0</td>\n",
       "      <td>@ldragoon @davidnotdave @Tesla Nah. That’d be ...</td>\n",
       "      <td>-0.1027</td>\n",
       "      <td>Negative</td>\n",
       "    </tr>\n",
       "    <tr>\n",
       "      <th>1</th>\n",
       "      <td>1618388548591439872</td>\n",
       "      <td>en</td>\n",
       "      <td>2023-01-25 23:21:12+00:00</td>\n",
       "      <td>0</td>\n",
       "      <td>RT @WatcherGuru: JUST IN: Elon Musk says Tesla...</td>\n",
       "      <td>0.5256</td>\n",
       "      <td>Positive</td>\n",
       "    </tr>\n",
       "    <tr>\n",
       "      <th>2</th>\n",
       "      <td>1618388547186327552</td>\n",
       "      <td>en</td>\n",
       "      <td>2023-01-25 23:21:12+00:00</td>\n",
       "      <td>0</td>\n",
       "      <td>RT @WatcherGuru: JUST IN: Elon Musk says Tesla...</td>\n",
       "      <td>0.5256</td>\n",
       "      <td>Positive</td>\n",
       "    </tr>\n",
       "    <tr>\n",
       "      <th>3</th>\n",
       "      <td>1618388546527834114</td>\n",
       "      <td>en</td>\n",
       "      <td>2023-01-25 23:21:12+00:00</td>\n",
       "      <td>0</td>\n",
       "      <td>RT @axios: Tesla reported record profit and re...</td>\n",
       "      <td>0.2382</td>\n",
       "      <td>Positive</td>\n",
       "    </tr>\n",
       "    <tr>\n",
       "      <th>4</th>\n",
       "      <td>1618388542467768320</td>\n",
       "      <td>en</td>\n",
       "      <td>2023-01-25 23:21:11+00:00</td>\n",
       "      <td>0</td>\n",
       "      <td>RT @SawyerMerritt: BREAKING: @elonmusk says \"s...</td>\n",
       "      <td>0.5622</td>\n",
       "      <td>Positive</td>\n",
       "    </tr>\n",
       "    <tr>\n",
       "      <th>...</th>\n",
       "      <td>...</td>\n",
       "      <td>...</td>\n",
       "      <td>...</td>\n",
       "      <td>...</td>\n",
       "      <td>...</td>\n",
       "      <td>...</td>\n",
       "      <td>...</td>\n",
       "    </tr>\n",
       "    <tr>\n",
       "      <th>95</th>\n",
       "      <td>1618388381985275905</td>\n",
       "      <td>en</td>\n",
       "      <td>2023-01-25 23:20:33+00:00</td>\n",
       "      <td>0</td>\n",
       "      <td>RT @GailAlfarATX: COUNTDOWN TO TODAY’S EARNING...</td>\n",
       "      <td>0.0</td>\n",
       "      <td>Neutral</td>\n",
       "    </tr>\n",
       "    <tr>\n",
       "      <th>96</th>\n",
       "      <td>1618388381557219328</td>\n",
       "      <td>en</td>\n",
       "      <td>2023-01-25 23:20:33+00:00</td>\n",
       "      <td>0</td>\n",
       "      <td>Tesla Beats On Top And Bottom Line As Margins ...</td>\n",
       "      <td>0.2023</td>\n",
       "      <td>Positive</td>\n",
       "    </tr>\n",
       "    <tr>\n",
       "      <th>97</th>\n",
       "      <td>1618388372535508992</td>\n",
       "      <td>en</td>\n",
       "      <td>2023-01-25 23:20:30+00:00</td>\n",
       "      <td>0</td>\n",
       "      <td>RT @spectatorindex: BREAKING: Elon Musk says T...</td>\n",
       "      <td>0.5256</td>\n",
       "      <td>Positive</td>\n",
       "    </tr>\n",
       "    <tr>\n",
       "      <th>98</th>\n",
       "      <td>1618388366017368066</td>\n",
       "      <td>en</td>\n",
       "      <td>2023-01-25 23:20:29+00:00</td>\n",
       "      <td>0</td>\n",
       "      <td>#BREAKING: Elon Musk says Tesla will be the wo...</td>\n",
       "      <td>0.5256</td>\n",
       "      <td>Positive</td>\n",
       "    </tr>\n",
       "    <tr>\n",
       "      <th>99</th>\n",
       "      <td>1618388366009200647</td>\n",
       "      <td>en</td>\n",
       "      <td>2023-01-25 23:20:29+00:00</td>\n",
       "      <td>0</td>\n",
       "      <td>@SandipPatel2020 @elonmusk Considering invento...</td>\n",
       "      <td>-0.296</td>\n",
       "      <td>Negative</td>\n",
       "    </tr>\n",
       "  </tbody>\n",
       "</table>\n",
       "<p>100 rows × 7 columns</p>\n",
       "</div>"
      ],
      "text/plain": [
       "                     id lang                 created_at retweet_count  \\\n",
       "0   1618388551435157506   en  2023-01-25 23:21:13+00:00             0   \n",
       "1   1618388548591439872   en  2023-01-25 23:21:12+00:00             0   \n",
       "2   1618388547186327552   en  2023-01-25 23:21:12+00:00             0   \n",
       "3   1618388546527834114   en  2023-01-25 23:21:12+00:00             0   \n",
       "4   1618388542467768320   en  2023-01-25 23:21:11+00:00             0   \n",
       "..                  ...  ...                        ...           ...   \n",
       "95  1618388381985275905   en  2023-01-25 23:20:33+00:00             0   \n",
       "96  1618388381557219328   en  2023-01-25 23:20:33+00:00             0   \n",
       "97  1618388372535508992   en  2023-01-25 23:20:30+00:00             0   \n",
       "98  1618388366017368066   en  2023-01-25 23:20:29+00:00             0   \n",
       "99  1618388366009200647   en  2023-01-25 23:20:29+00:00             0   \n",
       "\n",
       "                                                 text sentiment_score  \\\n",
       "0   @ldragoon @davidnotdave @Tesla Nah. That’d be ...         -0.1027   \n",
       "1   RT @WatcherGuru: JUST IN: Elon Musk says Tesla...          0.5256   \n",
       "2   RT @WatcherGuru: JUST IN: Elon Musk says Tesla...          0.5256   \n",
       "3   RT @axios: Tesla reported record profit and re...          0.2382   \n",
       "4   RT @SawyerMerritt: BREAKING: @elonmusk says \"s...          0.5622   \n",
       "..                                                ...             ...   \n",
       "95  RT @GailAlfarATX: COUNTDOWN TO TODAY’S EARNING...             0.0   \n",
       "96  Tesla Beats On Top And Bottom Line As Margins ...          0.2023   \n",
       "97  RT @spectatorindex: BREAKING: Elon Musk says T...          0.5256   \n",
       "98  #BREAKING: Elon Musk says Tesla will be the wo...          0.5256   \n",
       "99  @SandipPatel2020 @elonmusk Considering invento...          -0.296   \n",
       "\n",
       "   sentiment  \n",
       "0   Negative  \n",
       "1   Positive  \n",
       "2   Positive  \n",
       "3   Positive  \n",
       "4   Positive  \n",
       "..       ...  \n",
       "95   Neutral  \n",
       "96  Positive  \n",
       "97  Positive  \n",
       "98  Positive  \n",
       "99  Negative  \n",
       "\n",
       "[100 rows x 7 columns]"
      ]
     },
     "execution_count": 11,
     "metadata": {},
     "output_type": "execute_result"
    }
   ],
   "source": [
    "sentiment_df"
   ]
  },
  {
   "cell_type": "code",
   "execution_count": 12,
   "metadata": {},
   "outputs": [
    {
     "data": {
      "text/plain": [
       "id                                               1618388548591439872\n",
       "lang                                                              en\n",
       "created_at                                 2023-01-25 23:21:12+00:00\n",
       "retweet_count                                                      0\n",
       "text               RT @WatcherGuru: JUST IN: Elon Musk says Tesla...\n",
       "sentiment_score                                               0.5256\n",
       "sentiment                                                   Positive\n",
       "Name: 1, dtype: object"
      ]
     },
     "execution_count": 12,
     "metadata": {},
     "output_type": "execute_result"
    }
   ],
   "source": [
    "sentiment_df.loc[1]"
   ]
  },
  {
   "cell_type": "code",
   "execution_count": 13,
   "metadata": {},
   "outputs": [
    {
     "name": "stdout",
     "output_type": "stream",
     "text": [
      "RT @WatcherGuru: JUST IN: Elon Musk says Tesla $TSLA will be the most valuable company in the world in the long run.\n"
     ]
    }
   ],
   "source": [
    "print(sentiment_df.text[1])"
   ]
  },
  {
   "cell_type": "markdown",
   "metadata": {},
   "source": [
    "### Plot Sentiment Analysis over Time"
   ]
  },
  {
   "cell_type": "code",
   "execution_count": 15,
   "metadata": {},
   "outputs": [],
   "source": [
    "import matplotlib.pyplot as plt\n",
    "import matplotlib\n",
    "%matplotlib inline"
   ]
  },
  {
   "cell_type": "code",
   "execution_count": 16,
   "metadata": {},
   "outputs": [
    {
     "data": {
      "text/html": [
       "<div>\n",
       "<style scoped>\n",
       "    .dataframe tbody tr th:only-of-type {\n",
       "        vertical-align: middle;\n",
       "    }\n",
       "\n",
       "    .dataframe tbody tr th {\n",
       "        vertical-align: top;\n",
       "    }\n",
       "\n",
       "    .dataframe thead th {\n",
       "        text-align: right;\n",
       "    }\n",
       "</style>\n",
       "<table border=\"1\" class=\"dataframe\">\n",
       "  <thead>\n",
       "    <tr style=\"text-align: right;\">\n",
       "      <th></th>\n",
       "      <th>created_at</th>\n",
       "      <th>sentiment_score</th>\n",
       "    </tr>\n",
       "  </thead>\n",
       "  <tbody>\n",
       "    <tr>\n",
       "      <th>0</th>\n",
       "      <td>2023-01-25 23:21:13+00:00</td>\n",
       "      <td>-0.1027</td>\n",
       "    </tr>\n",
       "    <tr>\n",
       "      <th>1</th>\n",
       "      <td>2023-01-25 23:21:12+00:00</td>\n",
       "      <td>0.5256</td>\n",
       "    </tr>\n",
       "    <tr>\n",
       "      <th>2</th>\n",
       "      <td>2023-01-25 23:21:12+00:00</td>\n",
       "      <td>0.5256</td>\n",
       "    </tr>\n",
       "    <tr>\n",
       "      <th>3</th>\n",
       "      <td>2023-01-25 23:21:12+00:00</td>\n",
       "      <td>0.2382</td>\n",
       "    </tr>\n",
       "    <tr>\n",
       "      <th>4</th>\n",
       "      <td>2023-01-25 23:21:11+00:00</td>\n",
       "      <td>0.5622</td>\n",
       "    </tr>\n",
       "    <tr>\n",
       "      <th>...</th>\n",
       "      <td>...</td>\n",
       "      <td>...</td>\n",
       "    </tr>\n",
       "    <tr>\n",
       "      <th>95</th>\n",
       "      <td>2023-01-25 23:20:33+00:00</td>\n",
       "      <td>0.0</td>\n",
       "    </tr>\n",
       "    <tr>\n",
       "      <th>96</th>\n",
       "      <td>2023-01-25 23:20:33+00:00</td>\n",
       "      <td>0.2023</td>\n",
       "    </tr>\n",
       "    <tr>\n",
       "      <th>97</th>\n",
       "      <td>2023-01-25 23:20:30+00:00</td>\n",
       "      <td>0.5256</td>\n",
       "    </tr>\n",
       "    <tr>\n",
       "      <th>98</th>\n",
       "      <td>2023-01-25 23:20:29+00:00</td>\n",
       "      <td>0.5256</td>\n",
       "    </tr>\n",
       "    <tr>\n",
       "      <th>99</th>\n",
       "      <td>2023-01-25 23:20:29+00:00</td>\n",
       "      <td>-0.296</td>\n",
       "    </tr>\n",
       "  </tbody>\n",
       "</table>\n",
       "<p>100 rows × 2 columns</p>\n",
       "</div>"
      ],
      "text/plain": [
       "                   created_at sentiment_score\n",
       "0   2023-01-25 23:21:13+00:00         -0.1027\n",
       "1   2023-01-25 23:21:12+00:00          0.5256\n",
       "2   2023-01-25 23:21:12+00:00          0.5256\n",
       "3   2023-01-25 23:21:12+00:00          0.2382\n",
       "4   2023-01-25 23:21:11+00:00          0.5622\n",
       "..                        ...             ...\n",
       "95  2023-01-25 23:20:33+00:00             0.0\n",
       "96  2023-01-25 23:20:33+00:00          0.2023\n",
       "97  2023-01-25 23:20:30+00:00          0.5256\n",
       "98  2023-01-25 23:20:29+00:00          0.5256\n",
       "99  2023-01-25 23:20:29+00:00          -0.296\n",
       "\n",
       "[100 rows x 2 columns]"
      ]
     },
     "execution_count": 16,
     "metadata": {},
     "output_type": "execute_result"
    }
   ],
   "source": [
    "sentiment_df[['created_at', 'sentiment_score']]"
   ]
  },
  {
   "cell_type": "code",
   "execution_count": 17,
   "metadata": {},
   "outputs": [
    {
     "data": {
      "image/png": "[encoded data removed]",
      "text/plain": [
       "<Figure size 1800x720 with 1 Axes>"
      ]
     },
     "metadata": {
      "needs_background": "light"
     },
     "output_type": "display_data"
    }
   ],
   "source": [
    "plt.rcParams['figure.figsize'] = (25, 10)\n",
    "\n",
    "timeline_df = sentiment_df.copy()\n",
    "timeline_df['sentiment_score'] = timeline_df['sentiment_score'].astype('float')\n",
    "timeline_df = timeline_df[['created_at', 'sentiment_score']].set_index('created_at')\n",
    "\n",
    "timeline_df.plot()\n",
    "plot = plt.title('Edwards Lifesicences Sentiment Timeline')"
   ]
  },
  {
   "cell_type": "code",
   "execution_count": null,
   "metadata": {},
   "outputs": [],
   "source": []
  }
 ],
 "metadata": {
  "kernelspec": {
   "display_name": "Python 3.7.13 ('twitter')",
   "language": "python",
   "name": "python3"
  },
  "language_info": {
   "codemirror_mode": {
    "name": "ipython",
    "version": 3
   },
   "file_extension": ".py",
   "mimetype": "text/x-python",
   "name": "python",
   "nbconvert_exporter": "python",
   "pygments_lexer": "ipython3",
   "version": "3.7.13 (default, Mar 28 2022, 08:03:21) [MSC v.1916 64 bit (AMD64)]"
  },
  "orig_nbformat": 4,
  "vscode": {
   "interpreter": {
    "hash": "994ba2261b588b343673ef123b5a126f6343ce5fe0665ea88c4db3584acffffd"
   }
  }
 },
 "nbformat": 4,
 "nbformat_minor": 2
}
